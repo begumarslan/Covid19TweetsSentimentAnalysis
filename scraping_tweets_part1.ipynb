{
 "cells": [
  {
   "cell_type": "markdown",
   "id": "8b2a0e45",
   "metadata": {},
   "source": [
    "### Scraping Covid19 Related tweets from snscrape module"
   ]
  },
  {
   "cell_type": "code",
   "execution_count": 1,
   "id": "809412b7",
   "metadata": {},
   "outputs": [],
   "source": [
    "import snscrape.modules.twitter as sntwitter\n",
    "from googletrans import Translator\n",
    "import pandas as pd"
   ]
  },
  {
   "cell_type": "code",
   "execution_count": 2,
   "id": "167ed525",
   "metadata": {},
   "outputs": [],
   "source": [
    "tweets_01_01_04_01 = []"
   ]
  },
  {
   "cell_type": "code",
   "execution_count": 3,
   "id": "d98d15a6",
   "metadata": {},
   "outputs": [],
   "source": [
    "for i,tweet in enumerate(sntwitter.TwitterSearchScraper('COVID19 lang:en since:2021-01-01 until:2021-04-01').get_items()):\n",
    "    if i>5000:\n",
    "        break\n",
    "    tweets_01_01_04_01.append([tweet.date, tweet.id, tweet.content, tweet.user.username])\n",
    "    \n",
    "# Creating a dataframe from the tweets list above\n",
    "tweets_01_01_04_01_df = pd.DataFrame(tweets_01_01_04_01, columns=['Datetime', 'Tweet Id', 'Text', 'Username'])"
   ]
  },
  {
   "cell_type": "code",
   "execution_count": 4,
   "id": "b64d8264",
   "metadata": {},
   "outputs": [],
   "source": [
    "tweets_04_01_07_01 = []"
   ]
  },
  {
   "cell_type": "code",
   "execution_count": 5,
   "id": "38e1c4ce",
   "metadata": {},
   "outputs": [],
   "source": [
    "for i,tweet in enumerate(sntwitter.TwitterSearchScraper('COVID19 lang:en since:2021-04-01 until:2021-07-01').get_items()):\n",
    "    if i>5000:\n",
    "        break\n",
    "    tweets_04_01_07_01.append([tweet.date, tweet.id, tweet.content, tweet.user.username])\n",
    "    \n",
    "# Creating a dataframe from the tweets list above\n",
    "tweets_04_01_07_01_df = pd.DataFrame(tweets_04_01_07_01, columns=['Datetime', 'Tweet Id', 'Text', 'Username'])"
   ]
  },
  {
   "cell_type": "code",
   "execution_count": 6,
   "id": "5c1bf4db",
   "metadata": {},
   "outputs": [],
   "source": [
    "tweets_07_01_10_01 = []"
   ]
  },
  {
   "cell_type": "code",
   "execution_count": 7,
   "id": "67ad93e8",
   "metadata": {},
   "outputs": [],
   "source": [
    "for i,tweet in enumerate(sntwitter.TwitterSearchScraper('COVID19 lang:en since:2021-07-01 until:2021-10-01').get_items()):\n",
    "    if i>5000:\n",
    "        break\n",
    "    tweets_07_01_10_01.append([tweet.date, tweet.id, tweet.content, tweet.user.username])\n",
    "    \n",
    "# Creating a dataframe from the tweets list above\n",
    "tweets_07_01_10_01_df = pd.DataFrame(tweets_07_01_10_01, columns=['Datetime', 'Tweet Id', 'Text', 'Username'])"
   ]
  },
  {
   "cell_type": "code",
   "execution_count": 8,
   "id": "d2685278",
   "metadata": {},
   "outputs": [],
   "source": [
    "tweets_10_01_01_01 = []"
   ]
  },
  {
   "cell_type": "code",
   "execution_count": 9,
   "id": "ba762ed0",
   "metadata": {},
   "outputs": [],
   "source": [
    "for i,tweet in enumerate(sntwitter.TwitterSearchScraper('COVID19 lang:en since:2021-10-01 until:2022-01-01').get_items()):\n",
    "    if i>5000:\n",
    "        break\n",
    "    tweets_10_01_01_01.append([tweet.date, tweet.id, tweet.content, tweet.user.username])\n",
    "    \n",
    "# Creating a dataframe from the tweets list above\n",
    "tweets_10_01_01_01_df = pd.DataFrame(tweets_10_01_01_01, columns=['Datetime', 'Tweet Id', 'Text', 'Username'])"
   ]
  },
  {
   "cell_type": "markdown",
   "id": "536b7b6c",
   "metadata": {},
   "source": [
    "### Concatting dataframes of tweets belonging to different dates"
   ]
  },
  {
   "cell_type": "code",
   "execution_count": 11,
   "id": "568b4c19",
   "metadata": {},
   "outputs": [],
   "source": [
    "result = pd.concat([tweets_01_01_04_01_df,tweets_04_01_07_01_df,tweets_07_01_10_01_df,tweets_10_01_01_01_df])"
   ]
  },
  {
   "cell_type": "code",
   "execution_count": 12,
   "id": "66c402b7",
   "metadata": {},
   "outputs": [],
   "source": [
    "result.to_csv('covid_tweets_2021.csv')"
   ]
  }
 ],
 "metadata": {
  "kernelspec": {
   "display_name": "Python3.6Test",
   "language": "python",
   "name": "python3.6test"
  },
  "language_info": {
   "codemirror_mode": {
    "name": "ipython",
    "version": 3
   },
   "file_extension": ".py",
   "mimetype": "text/x-python",
   "name": "python",
   "nbconvert_exporter": "python",
   "pygments_lexer": "ipython3",
   "version": "3.8.5"
  }
 },
 "nbformat": 4,
 "nbformat_minor": 5
}
