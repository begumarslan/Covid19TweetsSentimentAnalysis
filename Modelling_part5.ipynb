{
 "cells": [
  {
   "cell_type": "markdown",
   "id": "c46317ae",
   "metadata": {},
   "source": [
    "### Sentiment Analysis with TF-IDF, TextBlob and Vader"
   ]
  },
  {
   "cell_type": "code",
   "execution_count": 1,
   "id": "0885fcd0",
   "metadata": {
    "scrolled": true
   },
   "outputs": [
    {
     "name": "stderr",
     "output_type": "stream",
     "text": [
      "[nltk_data] Downloading package vader_lexicon to\n",
      "[nltk_data]     /Users/begum.arslan/nltk_data...\n",
      "[nltk_data]   Package vader_lexicon is already up-to-date!\n"
     ]
    }
   ],
   "source": [
    "import pandas as pd\n",
    "import numpy as np\n",
    "from textblob import TextBlob\n",
    "import nltk\n",
    "nltk.download('vader_lexicon')\n",
    "from vaderSentiment.vaderSentiment import SentimentIntensityAnalyzer\n",
    "from sklearn.model_selection import train_test_split\n",
    "from sklearn.feature_extraction.text import CountVectorizer\n",
    "from sklearn.feature_extraction.text import TfidfTransformer\n",
    "from sklearn.feature_extraction.text import TfidfVectorizer\n",
    "from sklearn.pipeline import Pipeline\n",
    "from sklearn.ensemble import RandomForestClassifier\n",
    "from sklearn.svm import LinearSVC\n",
    "from sklearn.metrics import confusion_matrix\n",
    "from sklearn.metrics import classification_report, f1_score\n",
    "import matplotlib.pyplot as plt\n",
    "%matplotlib inline\n",
    "import seaborn as sns\n",
    "import warnings\n",
    "warnings.filterwarnings(\"ignore\")"
   ]
  },
  {
   "cell_type": "code",
   "execution_count": 2,
   "id": "0bc757dd",
   "metadata": {},
   "outputs": [],
   "source": [
    "bert_data = pd.read_csv(\"tweets_w_bert_sentiments.csv\", index_col=[0])"
   ]
  },
  {
   "cell_type": "markdown",
   "id": "8f2e9d22",
   "metadata": {},
   "source": [
    "# TF-IDF (Term Frequency - Inverse Document Frequency)"
   ]
  },
  {
   "cell_type": "markdown",
   "id": "758c8999",
   "metadata": {},
   "source": [
    "### Train-Test-Split Data"
   ]
  },
  {
   "cell_type": "code",
   "execution_count": 3,
   "id": "2f23df1a",
   "metadata": {},
   "outputs": [
    {
     "name": "stdout",
     "output_type": "stream",
     "text": [
      "Shape of training data: (15952,)\n",
      "Shape of test data: (3988,)\n"
     ]
    }
   ],
   "source": [
    "X_train,X_test,Y_train, Y_test = train_test_split(bert_data['Text'], bert_data['Sentiment'], test_size=0.20, random_state=30)\n",
    "print('Shape of training data: {}'.format(X_train.shape))\n",
    "print('Shape of test data: {}'.format(X_test.shape))"
   ]
  },
  {
   "cell_type": "markdown",
   "id": "7d32d035",
   "metadata": {},
   "source": [
    "# Applying TF_IDF Vectorizer"
   ]
  },
  {
   "cell_type": "markdown",
   "id": "a36ac260",
   "metadata": {},
   "source": [
    "### Modelling with RandomForest"
   ]
  },
  {
   "cell_type": "code",
   "execution_count": 4,
   "id": "43a14790",
   "metadata": {},
   "outputs": [],
   "source": [
    "pipeline = Pipeline(\n",
    "            [\n",
    "                ('vect', CountVectorizer()),\n",
    "                ('tfidf', TfidfTransformer()),\n",
    "                ('rf', RandomForestClassifier()),\n",
    "            ]\n",
    "        )"
   ]
  },
  {
   "cell_type": "code",
   "execution_count": 5,
   "id": "65372d1a",
   "metadata": {},
   "outputs": [],
   "source": [
    "#Fitting data to Pipeline\n",
    "learner = pipeline.fit(X_train, Y_train)"
   ]
  },
  {
   "cell_type": "code",
   "execution_count": 6,
   "id": "40886462",
   "metadata": {},
   "outputs": [],
   "source": [
    "#Predicting on Test Set\n",
    "rf_y_pred = learner.predict(X_test)"
   ]
  },
  {
   "cell_type": "code",
   "execution_count": 7,
   "id": "56974714",
   "metadata": {},
   "outputs": [
    {
     "data": {
      "text/plain": [
       "{'1': {'precision': 0.6855670103092784,\n",
       "  'recall': 0.9253246753246753,\n",
       "  'f1-score': 0.7876036320568496,\n",
       "  'support': 2156},\n",
       " '2': {'precision': 0.875,\n",
       "  'recall': 0.08641975308641975,\n",
       "  'f1-score': 0.15730337078651688,\n",
       "  'support': 81},\n",
       " '3': {'precision': 0.7619047619047619,\n",
       "  'recall': 0.11149825783972125,\n",
       "  'f1-score': 0.19452887537993924,\n",
       "  'support': 287},\n",
       " '4': {'precision': 0.5969230769230769,\n",
       "  'recall': 0.3310580204778157,\n",
       "  'f1-score': 0.42590559824368823,\n",
       "  'support': 586},\n",
       " '5': {'precision': 0.6330014224751067,\n",
       "  'recall': 0.5068337129840547,\n",
       "  'f1-score': 0.5629348513598988,\n",
       "  'support': 878},\n",
       " 'accuracy': 0.6702607823470411,\n",
       " 'macro avg': {'precision': 0.7104792543224449,\n",
       "  'recall': 0.39222688394253735,\n",
       "  'f1-score': 0.4256552655653786,\n",
       "  'support': 3988},\n",
       " 'weighted avg': {'precision': 0.6703100082506362,\n",
       "  'recall': 0.6702607823470411,\n",
       "  'f1-score': 0.6295090950469184,\n",
       "  'support': 3988}}"
      ]
     },
     "execution_count": 7,
     "metadata": {},
     "output_type": "execute_result"
    }
   ],
   "source": [
    "classification_report(Y_test, rf_y_pred,output_dict=True)"
   ]
  },
  {
   "cell_type": "code",
   "execution_count": 8,
   "id": "eae28d0f",
   "metadata": {},
   "outputs": [
    {
     "data": {
      "text/plain": [
       "0.6295090950469184"
      ]
     },
     "execution_count": 8,
     "metadata": {},
     "output_type": "execute_result"
    }
   ],
   "source": [
    "f1_score(Y_test, rf_y_pred, average='weighted')"
   ]
  },
  {
   "cell_type": "code",
   "execution_count": 9,
   "id": "7bda640d",
   "metadata": {},
   "outputs": [
    {
     "data": {
      "image/png": "[encoded data removed]",
      "text/plain": [
       "<Figure size 432x288 with 2 Axes>"
      ]
     },
     "metadata": {
      "needs_background": "light"
     },
     "output_type": "display_data"
    }
   ],
   "source": [
    "#Creating a confusion Matrix \n",
    "\n",
    "def random_forest_model(rf_y_pred):\n",
    "    random_forest_model = confusion_matrix(Y_test,rf_y_pred)\n",
    "    fig = plt.plot(figsize=(8,5))\n",
    "    sns.heatmap(random_forest_model,annot=True,fmt='g')\n",
    "    plt.xlabel('Predicted')\n",
    "    plt.ylabel('True')\n",
    "    plt.title('Confusion Matrix of RFC')\n",
    "    return plt.show()\n",
    "\n",
    "random_forest_model(rf_y_pred)"
   ]
  },
  {
   "cell_type": "markdown",
   "id": "677cb263",
   "metadata": {},
   "source": [
    "### Modelling with SVM"
   ]
  },
  {
   "cell_type": "code",
   "execution_count": 10,
   "id": "9022091f",
   "metadata": {},
   "outputs": [],
   "source": [
    "pipeline_svm = Pipeline(\n",
    "            [\n",
    "                ('vect', CountVectorizer()),\n",
    "                ('tfidf', TfidfTransformer()),\n",
    "                ('clf', LinearSVC()),\n",
    "            ]\n",
    "        )"
   ]
  },
  {
   "cell_type": "code",
   "execution_count": 11,
   "id": "8deb2612",
   "metadata": {},
   "outputs": [],
   "source": [
    "#Fitting data to Pipeline\n",
    "learner_clf = pipeline_svm.fit(X_train, Y_train)"
   ]
  },
  {
   "cell_type": "code",
   "execution_count": 12,
   "id": "3d3c265f",
   "metadata": {},
   "outputs": [],
   "source": [
    "#Predicting on Test Set\n",
    "svm_pred = learner_clf.predict(X_test)"
   ]
  },
  {
   "cell_type": "code",
   "execution_count": 13,
   "id": "45f448bb",
   "metadata": {},
   "outputs": [
    {
     "data": {
      "text/plain": [
       "{'1': {'precision': 0.7771035598705501,\n",
       "  'recall': 0.8910018552875696,\n",
       "  'f1-score': 0.8301642178046672,\n",
       "  'support': 2156},\n",
       " '2': {'precision': 0.5625,\n",
       "  'recall': 0.1111111111111111,\n",
       "  'f1-score': 0.18556701030927833,\n",
       "  'support': 81},\n",
       " '3': {'precision': 0.49137931034482757,\n",
       "  'recall': 0.1986062717770035,\n",
       "  'f1-score': 0.28287841191067,\n",
       "  'support': 287},\n",
       " '4': {'precision': 0.5374149659863946,\n",
       "  'recall': 0.5392491467576792,\n",
       "  'f1-score': 0.5383304940374788,\n",
       "  'support': 586},\n",
       " '5': {'precision': 0.6695979899497487,\n",
       "  'recall': 0.6070615034168565,\n",
       "  'f1-score': 0.6367980884109916,\n",
       "  'support': 878},\n",
       " 'accuracy': 0.7111334002006018,\n",
       " 'macro avg': {'precision': 0.6075991652303043,\n",
       "  'recall': 0.469405977670044,\n",
       "  'f1-score': 0.49474764449461717,\n",
       "  'support': 3988},\n",
       " 'weighted avg': {'precision': 0.693293842124819,\n",
       "  'recall': 0.7111334002006018,\n",
       "  'f1-score': 0.6922320653889392,\n",
       "  'support': 3988}}"
      ]
     },
     "execution_count": 13,
     "metadata": {},
     "output_type": "execute_result"
    }
   ],
   "source": [
    "report=classification_report(Y_test, svm_pred,output_dict=True)\n",
    "report"
   ]
  },
  {
   "cell_type": "code",
   "execution_count": 14,
   "id": "0da94fe6",
   "metadata": {},
   "outputs": [
    {
     "data": {
      "text/plain": [
       "0.6922320653889392"
      ]
     },
     "execution_count": 14,
     "metadata": {},
     "output_type": "execute_result"
    }
   ],
   "source": [
    "f1_score(Y_test, svm_pred, average='weighted')"
   ]
  },
  {
   "cell_type": "code",
   "execution_count": 15,
   "id": "f4366b37",
   "metadata": {},
   "outputs": [
    {
     "data": {
      "image/png": "[encoded data removed]",
      "text/plain": [
       "<Figure size 432x288 with 2 Axes>"
      ]
     },
     "metadata": {
      "needs_background": "light"
     },
     "output_type": "display_data"
    }
   ],
   "source": [
    "#Creating a confusion Matrix \n",
    "\n",
    "def svm_model(y_pred):\n",
    "    svm_model = confusion_matrix(Y_test,y_pred)\n",
    "    fig = plt.plot(figsize=(8,5))\n",
    "    sns.heatmap(svm_model,annot=True,fmt='g')\n",
    "    plt.xlabel('Predicted')\n",
    "    plt.ylabel('True')\n",
    "    plt.title('Confusion Matrix of SVM')\n",
    "    return plt.show()\n",
    "\n",
    "svm_model(svm_pred)"
   ]
  },
  {
   "cell_type": "markdown",
   "id": "1940cec9",
   "metadata": {},
   "source": [
    "# Modelling with Vader"
   ]
  },
  {
   "cell_type": "code",
   "execution_count": 16,
   "id": "071d5108",
   "metadata": {},
   "outputs": [],
   "source": [
    "sia=SentimentIntensityAnalyzer()\n",
    "\n",
    "bert_data['Vader'] = bert_data['Text'].apply(lambda x: sia.polarity_scores(x)['compound'])\n",
    "bert_data['Vader_Score'] = pd.cut(bert_data['Vader'], bins=5, labels=[1, 2, 3, 4, 5])\n",
    "bert_data.drop('Vader',axis=1,inplace=True)"
   ]
  },
  {
   "cell_type": "code",
   "execution_count": 17,
   "id": "0099b3b6",
   "metadata": {
    "scrolled": false
   },
   "outputs": [
    {
     "data": {
      "text/plain": [
       "{'1': {'precision': 0.8701754385964913,\n",
       "  'recall': 0.23046185298764055,\n",
       "  'f1-score': 0.36441113805010655,\n",
       "  'support': 10761},\n",
       " '2': {'precision': 0.02634084417645192,\n",
       "  'recall': 0.21065989847715735,\n",
       "  'f1-score': 0.04682651622002821,\n",
       "  'support': 394},\n",
       " '3': {'precision': 0.10712607674236492,\n",
       "  'recall': 0.45691382765531063,\n",
       "  'f1-score': 0.17356001014970818,\n",
       "  'support': 1497},\n",
       " '4': {'precision': 0.2033263059264465,\n",
       "  'recall': 0.29245283018867924,\n",
       "  'f1-score': 0.23987840265303306,\n",
       "  'support': 2968},\n",
       " '5': {'precision': 0.4487062404870624,\n",
       "  'recall': 0.34120370370370373,\n",
       "  'f1-score': 0.3876397107166338,\n",
       "  'support': 4320},\n",
       " 'accuracy': 0.28029087261785357,\n",
       " 'macro avg': {'precision': 0.33113498118576346,\n",
       "  'recall': 0.3063384226024983,\n",
       "  'f1-score': 0.24246315555790193,\n",
       "  'support': 19940},\n",
       " 'weighted avg': {'precision': 0.6056463068766041,\n",
       "  'recall': 0.28029087261785357,\n",
       "  'f1-score': 0.33030390614403515,\n",
       "  'support': 19940}}"
      ]
     },
     "execution_count": 17,
     "metadata": {},
     "output_type": "execute_result"
    }
   ],
   "source": [
    "classification_report(bert_data['Sentiment'], bert_data['Vader_Score'],output_dict=True)"
   ]
  },
  {
   "cell_type": "code",
   "execution_count": 18,
   "id": "1ef06560",
   "metadata": {},
   "outputs": [
    {
     "data": {
      "text/plain": [
       "0.33030390614403515"
      ]
     },
     "execution_count": 18,
     "metadata": {},
     "output_type": "execute_result"
    }
   ],
   "source": [
    "f1_score(bert_data['Sentiment'], bert_data['Vader_Score'], average='weighted')"
   ]
  },
  {
   "cell_type": "code",
   "execution_count": 19,
   "id": "fed3a022",
   "metadata": {},
   "outputs": [
    {
     "data": {
      "image/png": "[encoded data removed]",
      "text/plain": [
       "<Figure size 432x288 with 2 Axes>"
      ]
     },
     "metadata": {
      "needs_background": "light"
     },
     "output_type": "display_data"
    }
   ],
   "source": [
    "#Creating a confusion Matrix \n",
    "\n",
    "def Vader_Model(y_pred):\n",
    "    vader_model = confusion_matrix(bert_data['Sentiment'],y_pred)\n",
    "    fig = plt.plot(figsize=(8,5))\n",
    "    sns.heatmap(vader_model,annot=True,fmt='g')\n",
    "    plt.xlabel('Predicted')\n",
    "    plt.ylabel('True')\n",
    "    plt.title('Confusion Matrix of Vader')\n",
    "    return plt.show()\n",
    "\n",
    "Vader_Model(bert_data['Vader_Score'])"
   ]
  },
  {
   "cell_type": "markdown",
   "id": "2079125c",
   "metadata": {},
   "source": [
    "# Modelling with TextBlob"
   ]
  },
  {
   "cell_type": "code",
   "execution_count": 20,
   "id": "ad9d13a8",
   "metadata": {},
   "outputs": [],
   "source": [
    "def textblob_analysis(x):\n",
    "    analysis = TextBlob(x)\n",
    "    return analysis.sentiment.polarity"
   ]
  },
  {
   "cell_type": "code",
   "execution_count": 21,
   "id": "fa304bef",
   "metadata": {},
   "outputs": [],
   "source": [
    "bert_data['TextBlob'] = bert_data['Text'].apply(lambda x: textblob_analysis(x))"
   ]
  },
  {
   "cell_type": "code",
   "execution_count": 22,
   "id": "c1ba08df",
   "metadata": {},
   "outputs": [],
   "source": [
    "bert_data['TextBlob_Score'] = pd.cut(bert_data['TextBlob'],bins=5,labels=[1, 2, 3, 4, 5])\n",
    "bert_data.drop('TextBlob',axis=1,inplace=True)"
   ]
  },
  {
   "cell_type": "code",
   "execution_count": 23,
   "id": "60ac24e9",
   "metadata": {},
   "outputs": [
    {
     "data": {
      "text/plain": [
       "{'1': {'precision': 0.9045801526717557,\n",
       "  'recall': 0.022023975466964038,\n",
       "  'f1-score': 0.043000997913453694,\n",
       "  'support': 10761},\n",
       " '2': {'precision': 0.022935779816513763,\n",
       "  'recall': 0.08883248730964467,\n",
       "  'f1-score': 0.036458333333333336,\n",
       "  'support': 394},\n",
       " '3': {'precision': 0.08244623847967422,\n",
       "  'recall': 0.770875083500334,\n",
       "  'f1-score': 0.1489608880857106,\n",
       "  'support': 1497},\n",
       " '4': {'precision': 0.19103260869565217,\n",
       "  'recall': 0.23685983827493262,\n",
       "  'f1-score': 0.2114921780986763,\n",
       "  'support': 2968},\n",
       " '5': {'precision': 0.5957894736842105,\n",
       "  'recall': 0.06550925925925925,\n",
       "  'f1-score': 0.11803962460896768,\n",
       "  'support': 4320},\n",
       " 'accuracy': 0.120962888665998,\n",
       " 'macro avg': {'precision': 0.3593568506695613,\n",
       "  'recall': 0.23682012876222686,\n",
       "  'f1-score': 0.11159040440802832,\n",
       "  'support': 19940},\n",
       " 'weighted avg': {'precision': 0.6523290395224186,\n",
       "  'recall': 0.120962888665998,\n",
       "  'f1-score': 0.09216312609086905,\n",
       "  'support': 19940}}"
      ]
     },
     "execution_count": 23,
     "metadata": {},
     "output_type": "execute_result"
    }
   ],
   "source": [
    "classification_report(bert_data['Sentiment'], bert_data['TextBlob_Score'],output_dict=True)"
   ]
  },
  {
   "cell_type": "code",
   "execution_count": 24,
   "id": "54be4fd4",
   "metadata": {},
   "outputs": [
    {
     "data": {
      "text/plain": [
       "0.09216312609086905"
      ]
     },
     "execution_count": 24,
     "metadata": {},
     "output_type": "execute_result"
    }
   ],
   "source": [
    "f1_score(bert_data['Sentiment'], bert_data['TextBlob_Score'], average='weighted')"
   ]
  },
  {
   "cell_type": "code",
   "execution_count": 25,
   "id": "6856feb9",
   "metadata": {},
   "outputs": [
    {
     "data": {
      "image/png": "[encoded data removed]",
      "text/plain": [
       "<Figure size 432x288 with 2 Axes>"
      ]
     },
     "metadata": {
      "needs_background": "light"
     },
     "output_type": "display_data"
    }
   ],
   "source": [
    "def TextBlob_Model(y_pred):\n",
    "    vader_model = confusion_matrix(bert_data['Sentiment'],y_pred)\n",
    "    fig = plt.plot(figsize=(8,5))\n",
    "    sns.heatmap(vader_model,annot=True,fmt='g')\n",
    "    plt.xlabel('Predicted')\n",
    "    plt.ylabel('True')\n",
    "    plt.title('Confusion Matrix of TextBlob')\n",
    "    return plt.show()\n",
    "\n",
    "TextBlob_Model(bert_data['TextBlob_Score'])"
   ]
  }
 ],
 "metadata": {
  "kernelspec": {
   "display_name": "Python 3 (ipykernel)",
   "language": "python",
   "name": "python3"
  },
  "language_info": {
   "codemirror_mode": {
    "name": "ipython",
    "version": 3
   },
   "file_extension": ".py",
   "mimetype": "text/x-python",
   "name": "python",
   "nbconvert_exporter": "python",
   "pygments_lexer": "ipython3",
   "version": "3.8.5"
  }
 },
 "nbformat": 4,
 "nbformat_minor": 5
}
