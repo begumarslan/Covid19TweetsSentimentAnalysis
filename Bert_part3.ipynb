{
 "cells": [
  {
   "cell_type": "code",
   "execution_count": 1,
   "id": "645db3a4",
   "metadata": {},
   "outputs": [],
   "source": [
    "from transformers import AutoTokenizer, AutoModelForSequenceClassification\n",
    "from tqdm import tqdm\n",
    "import time\n",
    "import torch\n",
    "import re\n",
    "import pandas as pd\n",
    "import warnings\n",
    "warnings.filterwarnings(\"ignore\")"
   ]
  },
  {
   "cell_type": "code",
   "execution_count": 2,
   "id": "515e184c",
   "metadata": {},
   "outputs": [],
   "source": [
    "#Instantiating the pretrained model \n",
    "tokenizer = AutoTokenizer.from_pretrained('nlptown/bert-base-multilingual-uncased-sentiment')\n",
    "\n",
    "model = AutoModelForSequenceClassification.from_pretrained('nlptown/bert-base-multilingual-uncased-sentiment')"
   ]
  },
  {
   "cell_type": "code",
   "execution_count": 3,
   "id": "667b1f39",
   "metadata": {},
   "outputs": [],
   "source": [
    "def calculating_score(tweet):\n",
    "    tokens = tokenizer.encode(tweet, return_tensors='pt')\n",
    "    result = model(tokens)\n",
    "    return int(torch.argmax(result.logits))+1"
   ]
  },
  {
   "cell_type": "code",
   "execution_count": 4,
   "id": "75ae38c5",
   "metadata": {},
   "outputs": [],
   "source": [
    "#Loading the twitter data\n",
    "covid_tweets = pd.read_csv('preprocessed_tweets.csv', index_col=[0])"
   ]
  },
  {
   "cell_type": "code",
   "execution_count": 5,
   "id": "86c4f81e",
   "metadata": {},
   "outputs": [
    {
     "name": "stdout",
     "output_type": "stream",
     "text": [
      "Before dropping: 64\n",
      "After dropping: 0\n"
     ]
    }
   ],
   "source": [
    "# Looking at na values\n",
    "print('Before dropping: {}'.format(covid_tweets['Text'].isna().sum()))\n",
    "\n",
    "#dropping na values\n",
    "covid_tweets =  covid_tweets[covid_tweets['Text'].notna()]\n",
    "\n",
    "#Resetting index\n",
    "covid_tweets = covid_tweets.reset_index(drop=True)\n",
    "\n",
    "#Creating new column called sentiment\n",
    "covid_tweets['Sentiment']=0\n",
    "\n",
    "# Checking at na values after dropping\n",
    "print('After dropping: {}'.format(covid_tweets['Text'].isna().sum()))"
   ]
  },
  {
   "cell_type": "code",
   "execution_count": 6,
   "id": "954f7e7e",
   "metadata": {},
   "outputs": [
    {
     "name": "stderr",
     "output_type": "stream",
     "text": [
      "100%|█████████████████████████████████████| 19940/19940 [34:06<00:00,  9.74it/s]\n"
     ]
    }
   ],
   "source": [
    "#Calculating sentiment score for each tweet \n",
    "for i in tqdm(range(len(covid_tweets['Text']))):\n",
    "    covid_tweets['Sentiment'][i]= calculating_score(covid_tweets['Text'][i])"
   ]
  },
  {
   "cell_type": "code",
   "execution_count": 7,
   "id": "bff61a3a",
   "metadata": {},
   "outputs": [],
   "source": [
    "covid_tweets.to_csv('tweets_w_bert_sentiments.csv')"
   ]
  }
 ],
 "metadata": {
  "kernelspec": {
   "display_name": "Python 3 (ipykernel)",
   "language": "python",
   "name": "python3"
  },
  "language_info": {
   "codemirror_mode": {
    "name": "ipython",
    "version": 3
   },
   "file_extension": ".py",
   "mimetype": "text/x-python",
   "name": "python",
   "nbconvert_exporter": "python",
   "pygments_lexer": "ipython3",
   "version": "3.8.5"
  }
 },
 "nbformat": 4,
 "nbformat_minor": 5
}
